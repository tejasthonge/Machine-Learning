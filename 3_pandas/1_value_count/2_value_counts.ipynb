{
 "cells": [
  {
   "cell_type": "markdown",
   "id": "21bb676b-f727-45c8-a43e-4d80e09e24df",
   "metadata": {},
   "source": [
    "# value_counts()\n",
    "-- it is work only on categorycal values (non numarical) and only in serires not on datafram\n",
    "-- so we first have to get andy series form the df and then call this function \n",
    "-- how to use this \n",
    "-- Problem :\n",
    "--    supose we have to count the number of matheche paby per team the how to do this \n",
    "\n"
   ]
  },
  {
   "cell_type": "code",
   "execution_count": 13,
   "id": "699c6aa9-db8c-4b97-91da-336fe2634d04",
   "metadata": {},
   "outputs": [],
   "source": [
    "import numpy as np\n",
    "import pandas as pd\n",
    "\n",
    "df =  pd.read_csv(\"matches.csv\")"
   ]
  },
  {
   "cell_type": "code",
   "execution_count": 15,
   "id": "a2f6c5ad-7ad7-4630-9422-1ce3cda63a7d",
   "metadata": {},
   "outputs": [
    {
     "data": {
      "text/plain": [
       "winner\n",
       "Mumbai Indians                 92\n",
       "Chennai Super Kings            79\n",
       "Kolkata Knight Riders          77\n",
       "Royal Challengers Bangalore    73\n",
       "Kings XI Punjab                70\n",
       "Rajasthan Royals               63\n",
       "Delhi Daredevils               62\n",
       "Sunrisers Hyderabad            42\n",
       "Deccan Chargers                29\n",
       "Gujarat Lions                  13\n",
       "Pune Warriors                  12\n",
       "Rising Pune Supergiant         10\n",
       "Kochi Tuskers Kerala            6\n",
       "Rising Pune Supergiants         5\n",
       "Name: count, dtype: int64"
      ]
     },
     "execution_count": 15,
     "metadata": {},
     "output_type": "execute_result"
    }
   ],
   "source": [
    "df['winner'].value_counts()  #by using this we can get the "
   ]
  },
  {
   "cell_type": "code",
   "execution_count": null,
   "id": "68088841-f594-47ee-a982-95a3180eae89",
   "metadata": {},
   "outputs": [],
   "source": []
  }
 ],
 "metadata": {
  "kernelspec": {
   "display_name": "Python [conda env:base] *",
   "language": "python",
   "name": "conda-base-py"
  },
  "language_info": {
   "codemirror_mode": {
    "name": "ipython",
    "version": 3
   },
   "file_extension": ".py",
   "mimetype": "text/x-python",
   "name": "python",
   "nbconvert_exporter": "python",
   "pygments_lexer": "ipython3",
   "version": "3.12.7"
  }
 },
 "nbformat": 4,
 "nbformat_minor": 5
}
